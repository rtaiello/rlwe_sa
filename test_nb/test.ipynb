{
 "cells": [
  {
   "cell_type": "code",
   "execution_count": 5,
   "metadata": {},
   "outputs": [],
   "source": [
    "from rlwe_sa import RlweSA, VES\n",
    "num_elements = 2**20\n",
    "ptxt_size=73\n",
    "num_clients = 10\n",
    "input_size = 8\n",
    "rlwe_sa = RlweSA(num_elements, ptxt_size=ptxt_size)\n",
    "ves_rlwe = VES(ptxt_size, num_clients, input_size, num_elements)\n",
    "secret_key = rlwe_sa.gen_secret_key()\n",
    "ptxt = [2**input_size] * num_elements\n",
    "ptxt_encoded = ves_rlwe.encode(ptxt)\n",
    "ptxt_decoded = ves_rlwe.decode(ptxt_encoded)\n",
    "ctxt = rlwe_sa.encrypt(secret_key, ptxt)\n",
    "decrypted_encoded = rlwe_sa.decrypt(secret_key, ctxt)\n",
    "decrypted = ves_rlwe.decode(decrypted_encoded)\n",
    "assert decrypted == ptxt, \"Decryption failed\""
   ]
  },
  {
   "cell_type": "code",
   "execution_count": null,
   "metadata": {},
   "outputs": [],
   "source": []
  }
 ],
 "metadata": {
  "kernelspec": {
   "display_name": "rlwe-sa",
   "language": "python",
   "name": "python3"
  },
  "language_info": {
   "codemirror_mode": {
    "name": "ipython",
    "version": 3
   },
   "file_extension": ".py",
   "mimetype": "text/x-python",
   "name": "python",
   "nbconvert_exporter": "python",
   "pygments_lexer": "ipython3",
   "version": "3.8.20"
  }
 },
 "nbformat": 4,
 "nbformat_minor": 2
}
