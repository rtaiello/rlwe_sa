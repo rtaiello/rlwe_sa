{
 "cells": [
  {
   "cell_type": "code",
   "execution_count": 5,
   "metadata": {},
   "outputs": [
    {
     "name": "stdout",
     "output_type": "stream",
     "text": [
      "Decrypted values (first 10):\n",
      "Value 0: high=7, low=18446744073709551609\n",
      "Value 1: high=7, low=18446744073709551609\n",
      "Value 2: high=7, low=18446744073709551609\n",
      "Value 3: high=7, low=18446744073709551609\n",
      "Value 4: high=7, low=18446744073709551609\n",
      "Value 5: high=7, low=18446744073709551609\n",
      "Value 6: high=7, low=18446744073709551609\n",
      "Value 7: high=7, low=18446744073709551609\n",
      "Value 8: high=7, low=18446744073709551609\n",
      "Value 9: high=7, low=18446744073709551609\n"
     ]
    },
    {
     "data": {
      "text/plain": [
       "[18446744073709551609,\n",
       " 18446744073709551609,\n",
       " 18446744073709551609,\n",
       " 18446744073709551609,\n",
       " 18446744073709551609,\n",
       " 18446744073709551609,\n",
       " 18446744073709551609,\n",
       " 18446744073709551609,\n",
       " 18446744073709551609,\n",
       " 18446744073709551609]"
      ]
     },
     "execution_count": 5,
     "metadata": {},
     "output_type": "execute_result"
    }
   ],
   "source": [
    "from rlwe_sa import RlweSA\n",
    "num_elements = 2**14\n",
    "ptxt_size=67\n",
    "rlwe_sa = RlweSA(num_elements, ptxt_size=ptxt_size)\n",
    "secret_key = rlwe_sa.gen_secret_key()\n",
    "ptxt = [2**ptxt_size] * num_elements\n",
    "ctxt = rlwe_sa.encrypt(secret_key, ptxt)\n",
    "ctxt[0].log_modulus()\n",
    "decrypted= rlwe_sa.decrypt(secret_key, ctxt)\n",
    "decrypted[:10]"
   ]
  },
  {
   "cell_type": "code",
   "execution_count": null,
   "metadata": {},
   "outputs": [],
   "source": []
  }
 ],
 "metadata": {
  "kernelspec": {
   "display_name": "rlwe-sa",
   "language": "python",
   "name": "python3"
  },
  "language_info": {
   "codemirror_mode": {
    "name": "ipython",
    "version": 3
   },
   "file_extension": ".py",
   "mimetype": "text/x-python",
   "name": "python",
   "nbconvert_exporter": "python",
   "pygments_lexer": "ipython3",
   "version": "3.8.20"
  }
 },
 "nbformat": 4,
 "nbformat_minor": 2
}
