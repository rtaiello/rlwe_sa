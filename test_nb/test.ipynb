{
 "cells": [
  {
   "cell_type": "code",
   "execution_count": 1,
   "metadata": {},
   "outputs": [
    {
     "name": "stdout",
     "output_type": "stream",
     "text": [
      "Decrypted values (first 10):"
     ]
    },
    {
     "data": {
      "text/plain": [
       "[18446744073709551585,\n",
       " 18446744073709551585,\n",
       " 18446744073709551585,\n",
       " 18446744073709551585,\n",
       " 18446744073709551585,\n",
       " 18446744073709551585,\n",
       " 18446744073709551585,\n",
       " 18446744073709551585,\n",
       " 18446744073709551585,\n",
       " 18446744073709551585]"
      ]
     },
     "execution_count": 1,
     "metadata": {},
     "output_type": "execute_result"
    },
    {
     "name": "stdout",
     "output_type": "stream",
     "text": [
      "\n",
      "Value 0: high=1, low=18446744073709551585\n",
      "Value 1: high=1, low=18446744073709551585\n",
      "Value 2: high=1, low=18446744073709551585\n",
      "Value 3: high=1, low=18446744073709551585\n",
      "Value 4: high=1, low=18446744073709551585\n",
      "Value 5: high=1, low=18446744073709551585\n",
      "Value 6: high=1, low=18446744073709551585\n",
      "Value 7: high=1, low=18446744073709551585\n",
      "Value 8: high=1, low=18446744073709551585\n",
      "Value 9: high=1, low=18446744073709551585\n"
     ]
    }
   ],
   "source": [
    "from rlwe_sa import RlweSA\n",
    "num_elements = 2**14\n",
    "ptxt_size=65\n",
    "rlwe_sa = RlweSA(num_elements, ptxt_size=ptxt_size)\n",
    "secret_key = rlwe_sa.gen_secret_key()\n",
    "ptxt = [2**ptxt_size] * num_elements\n",
    "ctxt = rlwe_sa.encrypt(secret_key, ptxt)\n",
    "ctxt[0].log_modulus()\n",
    "decrypted= rlwe_sa.decrypt(secret_key, ctxt)\n",
    "decrypted[:10]"
   ]
  },
  {
   "cell_type": "code",
   "execution_count": null,
   "metadata": {},
   "outputs": [],
   "source": []
  }
 ],
 "metadata": {
  "kernelspec": {
   "display_name": "rlwe-sa",
   "language": "python",
   "name": "python3"
  },
  "language_info": {
   "codemirror_mode": {
    "name": "ipython",
    "version": 3
   },
   "file_extension": ".py",
   "mimetype": "text/x-python",
   "name": "python",
   "nbconvert_exporter": "python",
   "pygments_lexer": "ipython3",
   "version": "3.8.20"
  }
 },
 "nbformat": 4,
 "nbformat_minor": 2
}
