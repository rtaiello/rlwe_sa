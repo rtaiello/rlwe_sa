{
 "cells": [
  {
   "cell_type": "code",
   "execution_count": 4,
   "metadata": {},
   "outputs": [
    {
     "ename": "AssertionError",
     "evalue": "Decryption failed",
     "output_type": "error",
     "traceback": [
      "\u001b[0;31m---------------------------------------------------------------------------\u001b[0m",
      "\u001b[0;31mAssertionError\u001b[0m                            Traceback (most recent call last)",
      "Input \u001b[0;32mIn [4]\u001b[0m, in \u001b[0;36m<cell line: 9>\u001b[0;34m()\u001b[0m\n\u001b[1;32m      7\u001b[0m ctxt \u001b[38;5;241m=\u001b[39m rlwe_sa\u001b[38;5;241m.\u001b[39mencrypt(secret_key, ptxt)\n\u001b[1;32m      8\u001b[0m decrypted\u001b[38;5;241m=\u001b[39m rlwe_sa\u001b[38;5;241m.\u001b[39mdecrypt(secret_key, ctxt)\n\u001b[0;32m----> 9\u001b[0m \u001b[38;5;28;01massert\u001b[39;00m ptxt \u001b[38;5;241m==\u001b[39m decrypted, \u001b[38;5;124m\"\u001b[39m\u001b[38;5;124mDecryption failed\u001b[39m\u001b[38;5;124m\"\u001b[39m\n",
      "\u001b[0;31mAssertionError\u001b[0m: Decryption failed"
     ]
    }
   ],
   "source": [
    "from rlwe_sa import RlweSA\n",
    "num_elements = 2**14\n",
    "ptxt_size=74\n",
    "rlwe_sa = RlweSA(num_elements, ptxt_size=ptxt_size)\n",
    "secret_key = rlwe_sa.gen_secret_key()\n",
    "ptxt = [2**ptxt_size] * num_elements\n",
    "ctxt = rlwe_sa.encrypt(secret_key, ptxt)\n",
    "decrypted= rlwe_sa.decrypt(secret_key, ctxt)\n",
    "for i in range(num_elements):\n",
    "    if decrypted[i] != ptxt[i]:\n",
    "        print(\"Decryption failed\")\n",
    "        break"
   ]
  },
  {
   "cell_type": "code",
   "execution_count": 4,
   "metadata": {},
   "outputs": [
    {
     "data": {
      "text/plain": [
       "18889465931478580854784"
      ]
     },
     "execution_count": 4,
     "metadata": {},
     "output_type": "execute_result"
    }
   ],
   "source": [
    "2**ptxt_size"
   ]
  },
  {
   "cell_type": "code",
   "execution_count": 5,
   "metadata": {},
   "outputs": [
    {
     "data": {
      "text/plain": [
       "[18889465931478580854784,\n",
       " 18889465931478580854784,\n",
       " 18889465931478580854784,\n",
       " 18889465931478580854784,\n",
       " 18889465931478580854784,\n",
       " 18889465931478580854784,\n",
       " 18889465931478580854784,\n",
       " 18889465931478580854784,\n",
       " 18889465931478580854784,\n",
       " 18889465931478580854784]"
      ]
     },
     "execution_count": 5,
     "metadata": {},
     "output_type": "execute_result"
    }
   ],
   "source": [
    "decrypted[:10]"
   ]
  },
  {
   "cell_type": "code",
   "execution_count": null,
   "metadata": {},
   "outputs": [],
   "source": []
  }
 ],
 "metadata": {
  "kernelspec": {
   "display_name": "rlwe-sa",
   "language": "python",
   "name": "python3"
  },
  "language_info": {
   "codemirror_mode": {
    "name": "ipython",
    "version": 3
   },
   "file_extension": ".py",
   "mimetype": "text/x-python",
   "name": "python",
   "nbconvert_exporter": "python",
   "pygments_lexer": "ipython3",
   "version": "3.8.20"
  }
 },
 "nbformat": 4,
 "nbformat_minor": 2
}
